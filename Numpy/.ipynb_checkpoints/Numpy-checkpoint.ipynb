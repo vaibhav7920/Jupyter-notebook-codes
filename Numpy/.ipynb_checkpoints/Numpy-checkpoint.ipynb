{
 "cells": [
  {
   "cell_type": "code",
   "execution_count": 1,
   "id": "441d662c",
   "metadata": {},
   "outputs": [
    {
     "name": "stdout",
     "output_type": "stream",
     "text": [
      "[1 3 4 5]\n"
     ]
    }
   ],
   "source": [
    "import numpy as np\n",
    "\n",
    "mylist =[1,3,4, 5]\n",
    "array = np.array(mylist)\n",
    "\n",
    "print(array)"
   ]
  },
  {
   "cell_type": "code",
   "execution_count": 2,
   "id": "71d69357",
   "metadata": {},
   "outputs": [
    {
     "name": "stdout",
     "output_type": "stream",
     "text": [
      "[ 1  2  3  4  5  6  7  8  9 10]\n"
     ]
    }
   ],
   "source": [
    "import numpy as np\n",
    "\n",
    "# Create a NumPy array with values from 1 to 10\n",
    "my_array = np.arange(1, 11)\n",
    "print(my_array)"
   ]
  },
  {
   "cell_type": "code",
   "execution_count": 3,
   "id": "0ac7dfc9",
   "metadata": {},
   "outputs": [
    {
     "name": "stdout",
     "output_type": "stream",
     "text": [
      "[[39 65 97]\n",
      " [59 28 36]\n",
      " [39 61 30]]\n"
     ]
    }
   ],
   "source": [
    "random_matrix = np.random.randint(low=1, high=100, size=(3, 3))\n",
    "print(random_matrix)"
   ]
  },
  {
   "cell_type": "code",
   "execution_count": 4,
   "id": "7488855a",
   "metadata": {},
   "outputs": [
    {
     "name": "stdout",
     "output_type": "stream",
     "text": [
      "[[0.02494215 0.94140863 0.7570292 ]\n",
      " [0.66914056 0.53704592 0.75784285]\n",
      " [0.6690785  0.7563469  0.0606661 ]]\n",
      "<class 'numpy.ndarray'>\n"
     ]
    }
   ],
   "source": [
    "random_matrix = np.random.rand(3, 3)\n",
    "print(random_matrix)\n",
    "print(type(random_matrix))"
   ]
  },
  {
   "cell_type": "code",
   "execution_count": 5,
   "id": "30f0627f",
   "metadata": {},
   "outputs": [],
   "source": [
    "alist = [[1,2,4], [34, 43, 67]]\n",
    "array2 = np.array(alist)"
   ]
  },
  {
   "cell_type": "code",
   "execution_count": 6,
   "id": "1dd1e744",
   "metadata": {},
   "outputs": [
    {
     "name": "stdout",
     "output_type": "stream",
     "text": [
      "[[ 95  69   8]\n",
      " [111  88 144]]\n"
     ]
    }
   ],
   "source": [
    "array = [[94,67,4], [77, 45, 77]]\n",
    "addition = array +array2\n",
    "print(addition)"
   ]
  },
  {
   "cell_type": "code",
   "execution_count": 7,
   "id": "8e5b8ba5",
   "metadata": {},
   "outputs": [
    {
     "name": "stdout",
     "output_type": "stream",
     "text": [
      "[[93 65  0]\n",
      " [43  2 10]]\n"
     ]
    }
   ],
   "source": [
    "subtract = array -array2\n",
    "print(subtract)"
   ]
  },
  {
   "cell_type": "code",
   "execution_count": 8,
   "id": "ae4f2da2",
   "metadata": {},
   "outputs": [
    {
     "name": "stdout",
     "output_type": "stream",
     "text": [
      "[[  94  134   16]\n",
      " [2618 1935 5159]]\n"
     ]
    }
   ],
   "source": [
    "multiply = array * array2\n",
    "print(multiply)"
   ]
  },
  {
   "cell_type": "code",
   "execution_count": 11,
   "id": "dbda8675",
   "metadata": {},
   "outputs": [
    {
     "ename": "UFuncTypeError",
     "evalue": "Cannot cast ufunc 'divide' output from dtype('float64') to dtype('int32') with casting rule 'same_kind'",
     "output_type": "error",
     "traceback": [
      "\u001b[1;31m---------------------------------------------------------------------------\u001b[0m",
      "\u001b[1;31mUFuncTypeError\u001b[0m                            Traceback (most recent call last)",
      "Cell \u001b[1;32mIn[11], line 1\u001b[0m\n\u001b[1;32m----> 1\u001b[0m division_result \u001b[38;5;241m=\u001b[39m np\u001b[38;5;241m.\u001b[39mdivide(array, array2, out\u001b[38;5;241m=\u001b[39mnp\u001b[38;5;241m.\u001b[39mzeros_like(array), where\u001b[38;5;241m=\u001b[39marray2 \u001b[38;5;241m!=\u001b[39m \u001b[38;5;241m0\u001b[39m)\n\u001b[0;32m      2\u001b[0m \u001b[38;5;28mprint\u001b[39m(division_result)\n",
      "\u001b[1;31mUFuncTypeError\u001b[0m: Cannot cast ufunc 'divide' output from dtype('float64') to dtype('int32') with casting rule 'same_kind'"
     ]
    }
   ],
   "source": [
    "division_result = np.divide(array, array2, out=np.zeros_like(array), where=array2 != 0)\n",
    "print(division_result)"
   ]
  },
  {
   "cell_type": "code",
   "execution_count": 2,
   "id": "0c126bbb",
   "metadata": {},
   "outputs": [
    {
     "name": "stdout",
     "output_type": "stream",
     "text": [
      "Array Creation:\n"
     ]
    }
   ],
   "source": [
    "\n",
    "\n",
    "print(\"Array Creation:\")"
   ]
  },
  {
   "cell_type": "code",
   "execution_count": null,
   "id": "99ff04df",
   "metadata": {},
   "outputs": [],
   "source": [
    "print(\"Using Lists or Tuples:\")"
   ]
  }
 ],
 "metadata": {
  "kernelspec": {
   "display_name": "Python 3 (ipykernel)",
   "language": "python",
   "name": "python3"
  },
  "language_info": {
   "codemirror_mode": {
    "name": "ipython",
    "version": 3
   },
   "file_extension": ".py",
   "mimetype": "text/x-python",
   "name": "python",
   "nbconvert_exporter": "python",
   "pygments_lexer": "ipython3",
   "version": "3.11.7"
  }
 },
 "nbformat": 4,
 "nbformat_minor": 5
}
