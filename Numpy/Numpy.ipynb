{
 "cells": [
  {
   "cell_type": "code",
   "execution_count": 1,
   "id": "441d662c",
   "metadata": {},
   "outputs": [
    {
     "name": "stdout",
     "output_type": "stream",
     "text": [
      "[1 3 4 5]\n"
     ]
    }
   ],
   "source": [
    "import numpy as np\n",
    "\n",
    "mylist =[1,3,4, 5]\n",
    "array = np.array(mylist)\n",
    "\n",
    "print(array)"
   ]
  },
  {
   "cell_type": "code",
   "execution_count": 2,
   "id": "71d69357",
   "metadata": {},
   "outputs": [
    {
     "name": "stdout",
     "output_type": "stream",
     "text": [
      "[ 1  2  3  4  5  6  7  8  9 10]\n"
     ]
    }
   ],
   "source": [
    "import numpy as np\n",
    "\n",
    "# Create a NumPy array with values from 1 to 10\n",
    "my_array = np.arange(1, 11)\n",
    "print(my_array)"
   ]
  },
  {
   "cell_type": "code",
   "execution_count": 3,
   "id": "0ac7dfc9",
   "metadata": {},
   "outputs": [
    {
     "name": "stdout",
     "output_type": "stream",
     "text": [
      "[[39 65 97]\n",
      " [59 28 36]\n",
      " [39 61 30]]\n"
     ]
    }
   ],
   "source": [
    "random_matrix = np.random.randint(low=1, high=100, size=(3, 3))\n",
    "print(random_matrix)"
   ]
  },
  {
   "cell_type": "code",
   "execution_count": 4,
   "id": "7488855a",
   "metadata": {},
   "outputs": [
    {
     "name": "stdout",
     "output_type": "stream",
     "text": [
      "[[0.02494215 0.94140863 0.7570292 ]\n",
      " [0.66914056 0.53704592 0.75784285]\n",
      " [0.6690785  0.7563469  0.0606661 ]]\n",
      "<class 'numpy.ndarray'>\n"
     ]
    }
   ],
   "source": [
    "random_matrix = np.random.rand(3, 3)\n",
    "print(random_matrix)\n",
    "print(type(random_matrix))"
   ]
  },
  {
   "cell_type": "code",
   "execution_count": 5,
   "id": "30f0627f",
   "metadata": {},
   "outputs": [],
   "source": [
    "alist = [[1,2,4], [34, 43, 67]]\n",
    "array2 = np.array(alist)"
   ]
  },
  {
   "cell_type": "code",
   "execution_count": 6,
   "id": "1dd1e744",
   "metadata": {},
   "outputs": [
    {
     "name": "stdout",
     "output_type": "stream",
     "text": [
      "[[ 95  69   8]\n",
      " [111  88 144]]\n"
     ]
    }
   ],
   "source": [
    "array = [[94,67,4], [77, 45, 77]]\n",
    "addition = array +array2\n",
    "print(addition)"
   ]
  },
  {
   "cell_type": "code",
   "execution_count": 7,
   "id": "8e5b8ba5",
   "metadata": {},
   "outputs": [
    {
     "name": "stdout",
     "output_type": "stream",
     "text": [
      "[[93 65  0]\n",
      " [43  2 10]]\n"
     ]
    }
   ],
   "source": [
    "subtract = array -array2\n",
    "print(subtract)"
   ]
  },
  {
   "cell_type": "code",
   "execution_count": 8,
   "id": "ae4f2da2",
   "metadata": {},
   "outputs": [
    {
     "name": "stdout",
     "output_type": "stream",
     "text": [
      "[[  94  134   16]\n",
      " [2618 1935 5159]]\n"
     ]
    }
   ],
   "source": [
    "multiply = array * array2\n",
    "print(multiply)"
   ]
  },
  {
   "cell_type": "code",
   "execution_count": 11,
   "id": "dbda8675",
   "metadata": {},
   "outputs": [
    {
     "ename": "UFuncTypeError",
     "evalue": "Cannot cast ufunc 'divide' output from dtype('float64') to dtype('int32') with casting rule 'same_kind'",
     "output_type": "error",
     "traceback": [
      "\u001b[1;31m---------------------------------------------------------------------------\u001b[0m",
      "\u001b[1;31mUFuncTypeError\u001b[0m                            Traceback (most recent call last)",
      "Cell \u001b[1;32mIn[11], line 1\u001b[0m\n\u001b[1;32m----> 1\u001b[0m division_result \u001b[38;5;241m=\u001b[39m np\u001b[38;5;241m.\u001b[39mdivide(array, array2, out\u001b[38;5;241m=\u001b[39mnp\u001b[38;5;241m.\u001b[39mzeros_like(array), where\u001b[38;5;241m=\u001b[39marray2 \u001b[38;5;241m!=\u001b[39m \u001b[38;5;241m0\u001b[39m)\n\u001b[0;32m      2\u001b[0m \u001b[38;5;28mprint\u001b[39m(division_result)\n",
      "\u001b[1;31mUFuncTypeError\u001b[0m: Cannot cast ufunc 'divide' output from dtype('float64') to dtype('int32') with casting rule 'same_kind'"
     ]
    }
   ],
   "source": [
    "division_result = np.divide(array, array2, out=np.zeros_like(array), where=array2 != 0)\n",
    "print(division_result)"
   ]
  },
  {
   "cell_type": "markdown",
   "id": "7e05b174",
   "metadata": {},
   "source": [
    "# Array Creation"
   ]
  },
  {
   "cell_type": "markdown",
   "id": "a483b9e0",
   "metadata": {},
   "source": [
    "#    1. Using Lists or Tuples:"
   ]
  },
  {
   "cell_type": "code",
   "execution_count": 6,
   "id": "38fae60f",
   "metadata": {},
   "outputs": [
    {
     "name": "stdout",
     "output_type": "stream",
     "text": [
      "list array =  [1 2 3 4 5]\n",
      "tupple array =  [1 2 3 4 5]\n"
     ]
    }
   ],
   "source": [
    "import numpy as np\n",
    "\n",
    "# Create an array from a list\n",
    "arr_list = np.array([1, 2, 3, 4, 5])\n",
    "print(\"list array = \",arr_list)\n",
    "\n",
    "# Create an array from a tuple\n",
    "arr_tuple = np.array((1, 2, 3, 4, 5))\n",
    "print(\"tupple array = \",arr_tuple)"
   ]
  },
  {
   "cell_type": "markdown",
   "id": "2f783a35",
   "metadata": {},
   "source": [
    "#    2. Using Special Functions"
   ]
  },
  {
   "cell_type": "code",
   "execution_count": 11,
   "id": "3a1ffce5",
   "metadata": {},
   "outputs": [
    {
     "name": "stdout",
     "output_type": "stream",
     "text": [
      "zeros array = \n",
      " [[0. 0. 0.]\n",
      " [0. 0. 0.]\n",
      " [0. 0. 0.]] \n",
      "\n",
      "ones array = \n",
      " [[1. 1. 1. 1.]\n",
      " [1. 1. 1. 1.]] \n",
      "\n",
      "full array = \n",
      " [[5 5 5]\n",
      " [5 5 5]] \n",
      "\n",
      "evenly spaced array within given interval = \n",
      " [0 2 4 6 8] \n",
      "\n",
      "evenly spaced aray over a specified range = \n",
      " [ 0.   2.5  5.   7.5 10. ] \n",
      "\n",
      "random array = \n",
      " [[0.66800103 0.0120733  0.42631941]\n",
      " [0.45699696 0.94179935 0.6441463 ]] \n",
      "\n",
      "array of random integers within a specified range = \n",
      " [[8 9 2]\n",
      " [7 5 2]] \n",
      "\n",
      "identity matrix = \n",
      " [[1. 0. 0.]\n",
      " [0. 1. 0.]\n",
      " [0. 0. 1.]] \n",
      "\n"
     ]
    }
   ],
   "source": [
    "# Create an array filled with zeros\n",
    "zeros_array = np.zeros((3, 3))\n",
    "print(\"zeros array = \\n\",zeros_array,\"\\n\")\n",
    "\n",
    "# Create an array filled with ones\n",
    "ones_array = np.ones((2, 4))\n",
    "print(\"ones array = \\n\",ones_array,\"\\n\")\n",
    "\n",
    "# Create an array filled with a specified value\n",
    "full_array = np.full((2, 3), 5)\n",
    "print(\"full array = \\n\",full_array,\"\\n\")\n",
    "\n",
    "# Create an array with evenly spaced values within a given interval\n",
    "arange_array = np.arange(0, 10, 2)\n",
    "print(\"evenly spaced array within given interval = \\n\",arange_array,\"\\n\")\n",
    "\n",
    "# Create an array with evenly spaced values over a specified range\n",
    "linspace_array = np.linspace(0, 10, 5)\n",
    "print(\"evenly spaced aray over a specified range = \\n\",linspace_array,\"\\n\")\n",
    "\n",
    "# Create an array of random values between 0 and 1\n",
    "rand_array = np.random.rand(2, 3)\n",
    "print(\"random array = \\n\",rand_array,\"\\n\")\n",
    "\n",
    "# Create an array of random integers within a specified range\n",
    "randint_array = np.random.randint(1, 10, size=(2, 3))\n",
    "print(\"array of random integers within a specified range = \\n\",randint_array,\"\\n\")\n",
    "\n",
    "# Create a 2-D array with ones on the diagonal and zeros elsewhere (identity matrix)\n",
    "eye_array = np.eye(3)\n",
    "print(\"identity matrix = \\n\", eye_array,\"\\n\")\n"
   ]
  },
  {
   "cell_type": "markdown",
   "id": "cd218e58",
   "metadata": {},
   "source": [
    "# Indexing and Slicing:\""
   ]
  },
  {
   "cell_type": "code",
   "execution_count": 14,
   "id": "6dcc6b3c",
   "metadata": {},
   "outputs": [
    {
     "name": "stdout",
     "output_type": "stream",
     "text": [
      "Indexing  1\n",
      "Slicing  [2 3 4]\n"
     ]
    }
   ],
   "source": [
    "# Indexing\n",
    "print(\"Indexing \",arr_list[0])  # Output: 1\n",
    "\n",
    "# Slicing\n",
    "print(\"Slicing \",arr_list[1:4])  # Output: [2 3 4]"
   ]
  },
  {
   "cell_type": "markdown",
   "id": "8878cb22",
   "metadata": {},
   "source": [
    "# Reshaping and Resizing:"
   ]
  },
  {
   "cell_type": "code",
   "execution_count": 20,
   "id": "eb2811c8",
   "metadata": {},
   "outputs": [
    {
     "name": "stdout",
     "output_type": "stream",
     "text": [
      "Original array = \n",
      " [1 2 3 4 5] \n",
      "\n",
      "Reshaped array = \n",
      " [[1]\n",
      " [2]\n",
      " [3]\n",
      " [4]\n",
      " [5]] \n",
      "\n",
      "Resized array = \n",
      " [[1 2 3]\n",
      " [4 5 1]\n",
      " [2 3 4]] \n",
      "\n",
      "Flattened array = \n",
      " [1 2 3 4 5] \n",
      "\n"
     ]
    }
   ],
   "source": [
    "#Original array\n",
    "print(\"Original array = \\n\",arr_list, \"\\n\" )\n",
    "\n",
    "# Reshape an array\n",
    "reshaped_array = np.reshape(arr_list, (5, 1))\n",
    "print(\"Reshaped array = \\n\",reshaped_array, \"\\n\" )\n",
    "\n",
    "# Resize an array\n",
    "resized_array = np.resize(arr_list, (3, 3))\n",
    "print(\"Resized array = \\n\",resized_array, \"\\n\" )\n",
    "\n",
    "# Flatten an array\n",
    "flattened_array = arr_list.ravel()\n",
    "print(\"Flattened array = \\n\",flattened_array, \"\\n\" )\n"
   ]
  },
  {
   "cell_type": "markdown",
   "id": "acd54076",
   "metadata": {},
   "source": [
    "# Stacking and Splitting:"
   ]
  },
  {
   "cell_type": "code",
   "execution_count": 21,
   "id": "05751e90",
   "metadata": {},
   "outputs": [
    {
     "name": "stdout",
     "output_type": "stream",
     "text": [
      "Concatenated array = \n",
      " [1 2 3 4 5 1 2 3 4 5] \n",
      "\n",
      "vertically stacked array = \n",
      " [[1 2 3 4 5]\n",
      " [1 2 3 4 5]] \n",
      "\n",
      "horizontally stacked array = \n",
      " [1 2 3 4 5 1 2 3 4 5] \n",
      "\n"
     ]
    },
    {
     "ename": "ValueError",
     "evalue": "array split does not result in an equal division",
     "output_type": "error",
     "traceback": [
      "\u001b[1;31m---------------------------------------------------------------------------\u001b[0m",
      "\u001b[1;31mValueError\u001b[0m                                Traceback (most recent call last)",
      "Cell \u001b[1;32mIn[21], line 16\u001b[0m\n\u001b[0;32m     12\u001b[0m \u001b[38;5;28mprint\u001b[39m(\u001b[38;5;124m\"\u001b[39m\u001b[38;5;124mhorizontally stacked array = \u001b[39m\u001b[38;5;130;01m\\n\u001b[39;00m\u001b[38;5;124m\"\u001b[39m,hstack_array, \u001b[38;5;124m\"\u001b[39m\u001b[38;5;130;01m\\n\u001b[39;00m\u001b[38;5;124m\"\u001b[39m )\n\u001b[0;32m     15\u001b[0m \u001b[38;5;66;03m# Split an array into multiple sub-arrays\u001b[39;00m\n\u001b[1;32m---> 16\u001b[0m splitted_array \u001b[38;5;241m=\u001b[39m np\u001b[38;5;241m.\u001b[39msplit(arr_list, \u001b[38;5;241m2\u001b[39m)\n\u001b[0;32m     17\u001b[0m \u001b[38;5;28mprint\u001b[39m(\u001b[38;5;124m\"\u001b[39m\u001b[38;5;124mSplitted sub array = \u001b[39m\u001b[38;5;130;01m\\n\u001b[39;00m\u001b[38;5;124m\"\u001b[39m,splitted_array, \u001b[38;5;124m\"\u001b[39m\u001b[38;5;130;01m\\n\u001b[39;00m\u001b[38;5;124m\"\u001b[39m )\n",
      "File \u001b[1;32mE:\\Anaconda\\Lib\\site-packages\\numpy\\lib\\shape_base.py:864\u001b[0m, in \u001b[0;36msplit\u001b[1;34m(ary, indices_or_sections, axis)\u001b[0m\n\u001b[0;32m    862\u001b[0m     N \u001b[38;5;241m=\u001b[39m ary\u001b[38;5;241m.\u001b[39mshape[axis]\n\u001b[0;32m    863\u001b[0m     \u001b[38;5;28;01mif\u001b[39;00m N \u001b[38;5;241m%\u001b[39m sections:\n\u001b[1;32m--> 864\u001b[0m         \u001b[38;5;28;01mraise\u001b[39;00m \u001b[38;5;167;01mValueError\u001b[39;00m(\n\u001b[0;32m    865\u001b[0m             \u001b[38;5;124m'\u001b[39m\u001b[38;5;124marray split does not result in an equal division\u001b[39m\u001b[38;5;124m'\u001b[39m) \u001b[38;5;28;01mfrom\u001b[39;00m \u001b[38;5;28;01mNone\u001b[39;00m\n\u001b[0;32m    866\u001b[0m \u001b[38;5;28;01mreturn\u001b[39;00m array_split(ary, indices_or_sections, axis)\n",
      "\u001b[1;31mValueError\u001b[0m: array split does not result in an equal division"
     ]
    }
   ],
   "source": [
    "# Concatenate arrays\n",
    "concatenated_array = np.concatenate((arr_list, arr_tuple))\n",
    "print(\"Concatenated array = \\n\",concatenated_array, \"\\n\" )\n",
    "\n",
    "# Stack arrays vertically\n",
    "vstack_array = np.vstack((arr_list, arr_tuple))\n",
    "print(\"vertically stacked array = \\n\",vstack_array, \"\\n\" )\n",
    "\n",
    "\n",
    "# Stack arrays horizontally\n",
    "hstack_array = np.hstack((arr_list, arr_tuple))\n",
    "print(\"horizontally stacked array = \\n\",hstack_array, \"\\n\" )\n",
    "\n",
    "\n",
    "# Split an array into multiple sub-arrays\n",
    "splitted_array = np.split(arr_list, 2)\n",
    "print(\"Splitted sub array = \\n\",splitted_array, \"\\n\" )\n",
    "\n"
   ]
  },
  {
   "cell_type": "markdown",
   "id": "f9388704",
   "metadata": {},
   "source": [
    "# Adding and Removing Elements:"
   ]
  },
  {
   "cell_type": "code",
   "execution_count": 23,
   "id": "5353d7b7",
   "metadata": {},
   "outputs": [
    {
     "name": "stdout",
     "output_type": "stream",
     "text": [
      "Appended array = \n",
      " [1 2 3 4 5 6] \n",
      "\n",
      "inserted array = \n",
      " [ 1  2 10  3  4  5] \n",
      "\n",
      "deleted array = \n",
      " [1 2 3 5] \n",
      "\n"
     ]
    }
   ],
   "source": [
    "# Append values to the end of an array\n",
    "appended_array = np.append(arr_list, 6)\n",
    "print(\"Appended array = \\n\",appended_array, \"\\n\" )\n",
    "\n",
    "# Insert values into an array\n",
    "inserted_array = np.insert(arr_list, 2, 10)\n",
    "print(\"inserted array = \\n\",inserted_array, \"\\n\" )\n",
    "\n",
    "\n",
    "# Delete elements from an array\n",
    "deleted_array = np.delete(arr_list, 3)\n",
    "print(\"deleted array = \\n\",deleted_array, \"\\n\" )\n"
   ]
  },
  {
   "cell_type": "markdown",
   "id": "8e5d3171",
   "metadata": {},
   "source": [
    "# Transposing and Flipping:"
   ]
  },
  {
   "cell_type": "code",
   "execution_count": 24,
   "id": "9fb05389",
   "metadata": {},
   "outputs": [
    {
     "name": "stdout",
     "output_type": "stream",
     "text": [
      "transposed array = \n",
      " [[1 4 2]\n",
      " [2 5 3]\n",
      " [3 1 4]] \n",
      "\n",
      "flipped array = \n",
      " [5 4 3 2 1] \n",
      "\n"
     ]
    }
   ],
   "source": [
    "# Transpose an array\n",
    "transposed_array = np.transpose(resized_array)\n",
    "print(\"transposed array = \\n\",transposed_array, \"\\n\" )\n",
    "\n",
    "# Reverse the order of elements in an array along a specified axis\n",
    "flipped_array = np.flip(arr_list)\n",
    "print(\"flipped array = \\n\",flipped_array, \"\\n\" )"
   ]
  },
  {
   "cell_type": "markdown",
   "id": "0a024a53",
   "metadata": {},
   "source": [
    "# Transposing and Flipping:"
   ]
  },
  {
   "cell_type": "code",
   "execution_count": 27,
   "id": "bc151715",
   "metadata": {},
   "outputs": [
    {
     "name": "stdout",
     "output_type": "stream",
     "text": [
      "sorted array = \n",
      " [1 2 3 4 5] \n",
      "\n",
      "sorted indices = \n",
      " [0 1 2 3 4] \n",
      "\n",
      "elements should be inserted to maintain order =  2\n"
     ]
    }
   ],
   "source": [
    "# Return a sorted copy of an array\n",
    "sorted_array = np.sort(arr_list)\n",
    "print(\"sorted array = \\n\",sorted_array, \"\\n\" )\n",
    "\n",
    "# Return the indices that would sort an array\n",
    "sorted_indices = np.argsort(arr_list)\n",
    "print(\"sorted indices = \\n\",sorted_indices, \"\\n\" )\n",
    "\n",
    "# Find the indices where elements should be inserted to maintain order\n",
    "search_indices = np.searchsorted(arr_list, 3)\n",
    "print(\"elements should be inserted to maintain order = \",search_indices )"
   ]
  },
  {
   "cell_type": "code",
   "execution_count": null,
   "id": "2dffbea1",
   "metadata": {},
   "outputs": [],
   "source": []
  }
 ],
 "metadata": {
  "kernelspec": {
   "display_name": "Python 3 (ipykernel)",
   "language": "python",
   "name": "python3"
  },
  "language_info": {
   "codemirror_mode": {
    "name": "ipython",
    "version": 3
   },
   "file_extension": ".py",
   "mimetype": "text/x-python",
   "name": "python",
   "nbconvert_exporter": "python",
   "pygments_lexer": "ipython3",
   "version": "3.11.7"
  }
 },
 "nbformat": 4,
 "nbformat_minor": 5
}
